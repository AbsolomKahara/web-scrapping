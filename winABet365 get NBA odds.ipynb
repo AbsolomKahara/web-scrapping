{
 "cells": [
  {
   "cell_type": "code",
   "execution_count": 1,
   "metadata": {},
   "outputs": [],
   "source": [
    "from selenium import webdriver\n",
    "import pandas as pd\n",
    "import csv\n",
    "import time"
   ]
  },
  {
   "cell_type": "code",
   "execution_count": 2,
   "metadata": {},
   "outputs": [],
   "source": [
    "driverpath='/home/absolom/Downloads/webdriver/chromedriver'\n",
    "webpage='https://www.winabet365.com/pre-match/european-sports#/Soccer/select-leagues'"
   ]
  },
  {
   "cell_type": "code",
   "execution_count": 3,
   "metadata": {},
   "outputs": [],
   "source": [
    "driver=webdriver.Chrome(driverpath)\n",
    "driver.get(webpage)"
   ]
  },
  {
   "cell_type": "code",
   "execution_count": 5,
   "metadata": {},
   "outputs": [],
   "source": [
    "#Select NBA\n",
    "nba=driver.find_element_by_xpath('//*[@id=\"ember3734\"]/div[8]')\n",
    "time.sleep(1)\n",
    "nba.click()"
   ]
  },
  {
   "cell_type": "code",
   "execution_count": 6,
   "metadata": {},
   "outputs": [
    {
     "name": "stdout",
     "output_type": "stream",
     "text": [
      "[<selenium.webdriver.remote.webelement.WebElement (session=\"dc0179698f7438b65b8935b9ba1365eb\", element=\"a197056f-a607-4912-bc23-d573f99b57c8\")>]\n"
     ]
    }
   ],
   "source": [
    "matches=driver.find_elements_by_class_name('mainbody')\n",
    "print(matches)"
   ]
  },
  {
   "cell_type": "code",
   "execution_count": 34,
   "metadata": {},
   "outputs": [],
   "source": [
    "details=[]\n",
    "for i in matches:\n",
    "    #print(i.text)\n",
    "    #details.append(i.text)\n",
    "    odds=i.find_elements_by_tag_name('tbody')\n",
    "    teams=i.find_elements_by_class_name('team-names-block')\n",
    "    team=[]\n",
    "    odd=[]\n",
    "    for n in teams:\n",
    "        #print(n.text)\n",
    "        team.append(n.text)\n",
    "    for m in odds:\n",
    "        #print(m.text)\n",
    "        odd.append(m.text)"
   ]
  },
  {
   "cell_type": "code",
   "execution_count": 30,
   "metadata": {},
   "outputs": [
    {
     "name": "stdout",
     "output_type": "stream",
     "text": [
      "['23:30:00', 'Memphis Grizzlies - Los Angeles Clippers']\n",
      "['03:00:00', 'Milwaukee Bucks - Charlotte Hornets']\n",
      "['03:00:00', 'Utah Jazz - Indiana Pacers']\n",
      "['03:00:00', 'Orlando Magic - Detroit Pistons']\n",
      "['03:30:00', 'New York Knicks - Boston Celtics']\n",
      "['05:00:00', 'Miami Heat - Phoenix Suns']\n"
     ]
    }
   ],
   "source": [
    "for l in range(len(team)):\n",
    "    print(team[l].split('\\n'))"
   ]
  },
  {
   "cell_type": "code",
   "execution_count": 36,
   "metadata": {},
   "outputs": [
    {
     "name": "stdout",
     "output_type": "stream",
     "text": [
      "['1.67 2.13']\n",
      "['1.91 1.85', '1.53 2.35', '2.08 1.70', '3.37 1.28', '4.00 1.21']\n"
     ]
    }
   ],
   "source": [
    "for k in range(len(odd)):\n",
    "    print(odd[k].split('\\n'))"
   ]
  },
  {
   "cell_type": "code",
   "execution_count": null,
   "metadata": {},
   "outputs": [],
   "source": []
  }
 ],
 "metadata": {
  "kernelspec": {
   "display_name": "Python 3",
   "language": "python",
   "name": "python3"
  },
  "language_info": {
   "codemirror_mode": {
    "name": "ipython",
    "version": 3
   },
   "file_extension": ".py",
   "mimetype": "text/x-python",
   "name": "python",
   "nbconvert_exporter": "python",
   "pygments_lexer": "ipython3",
   "version": "3.8.5"
  }
 },
 "nbformat": 4,
 "nbformat_minor": 4
}
