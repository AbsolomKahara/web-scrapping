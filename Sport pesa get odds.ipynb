{
 "cells": [
  {
   "cell_type": "code",
   "execution_count": 1,
   "metadata": {},
   "outputs": [],
   "source": [
    "#Time to scap some web\n",
    "from selenium import webdriver\n",
    "import time"
   ]
  },
  {
   "cell_type": "code",
   "execution_count": 35,
   "metadata": {},
   "outputs": [],
   "source": [
    "#Define variables WEB URL and path ChomeDriver\n",
    "web=\"https://www.ke.sportpesa.com/sports?sportId=1&section=top&leagueId=67600&name=Premier%20League\"\n",
    "path='/home/absolom/Downloads/webdriver/chromedriver'"
   ]
  },
  {
   "cell_type": "code",
   "execution_count": 36,
   "metadata": {},
   "outputs": [],
   "source": [
    "#Set driver instance\n",
    "driver=webdriver.Chrome(path)\n",
    "driver.get(web)"
   ]
  },
  {
   "cell_type": "code",
   "execution_count": 37,
   "metadata": {},
   "outputs": [],
   "source": [
    "#time.sleep makes selenium wait for some time\n",
    "time.sleep(2)\n",
    "accept=driver.find_element_by_xpath('//*[@id=\"cookies-law-info-content\"]/button')\n",
    "accept.click()"
   ]
  },
  {
   "cell_type": "code",
   "execution_count": 38,
   "metadata": {},
   "outputs": [],
   "source": [
    "teams=[]\n",
    "x12=[]#3-way\n",
    "odds_events=[]"
   ]
  },
  {
   "cell_type": "code",
   "execution_count": 39,
   "metadata": {},
   "outputs": [
    {
     "data": {
      "text/plain": [
       "<selenium.webdriver.remote.webelement.WebElement (session=\"6d336a09716c02cab73fd7d51a2e7cdc\", element=\"d70bd23f-2580-4461-8013-4ffba6b790a7\")>"
      ]
     },
     "execution_count": 39,
     "metadata": {},
     "output_type": "execute_result"
    }
   ],
   "source": [
    "#select football\n",
    "time.sleep(3)\n",
    "box = driver.find_element_by_xpath('//*[@id=\"mainview\"]/div/div/div[1]/sports-menu/nav/ul/li[2]/div[2]/ul/li[3]/div/span')\n",
    "#box.click();\n",
    "match=driver.find_element_by_xpath('//*[@id=\"mainview\"]/div/div/div[1]/div[2]/div[3]/events-content/div[4]/events-list/section/div[2]/div[4]')\n",
    "match\n"
   ]
  },
  {
   "cell_type": "code",
   "execution_count": 40,
   "metadata": {},
   "outputs": [
    {
     "name": "stdout",
     "output_type": "stream",
     "text": [
      "[<selenium.webdriver.remote.webelement.WebElement (session=\"6d336a09716c02cab73fd7d51a2e7cdc\", element=\"91772c47-2452-4810-83b8-b0baf861304d\")>]\n"
     ]
    }
   ],
   "source": [
    "# Bundesliga league \n",
    "time.sleep(3)\n",
    "budesliga=driver.find_element_by_xpath('//*[@id=\"mainview\"]/div/div/div[1]/sports-menu/nav/ul/li[2]/div[2]/ul/li[3]/ul/li[3]')\n",
    "budesliga.click()\n",
    "myevents=driver.find_elements_by_xpath('//*[@id=\"mainview\"]/div/div/div[1]/div[2]/div[3]/events-content/div[4]/events-list/section/div[2]')\n",
    "print(myevents)"
   ]
  },
  {
   "cell_type": "code",
   "execution_count": 48,
   "metadata": {},
   "outputs": [],
   "source": [
    "for element in myevents:\n",
    "    mdetails=element.find_elements_by_tag_name('div')\n",
    "for m in mdetails:\n",
    "    det=m.find_elements_by_class_name('event-row-container ng-scope')\n",
    "    #print(m.text)\n",
    "    \n",
    "        \n",
    "       "
   ]
  },
  {
   "cell_type": "code",
   "execution_count": 7,
   "metadata": {},
   "outputs": [],
   "source": [
    "leagues=driver.find_elements_by_class_name('ng-animate-enabled ng-app-slide-animation ng-scope')\n"
   ]
  },
  {
   "cell_type": "code",
   "execution_count": 8,
   "metadata": {},
   "outputs": [],
   "source": [
    "for lig in leagues:\n",
    "    l=lig.find_elements_by_tag_name('li')\n",
    "    print(l)\n",
    "    for lg in l:\n",
    "        \n",
    "        ligname=lg.get_element_by_tag_name('div')\n",
    "        for ln in ligname:\n",
    "            name=ligname.get_element_by_tag_name('span')\n",
    "            print(name.text)"
   ]
  },
  {
   "cell_type": "code",
   "execution_count": 34,
   "metadata": {},
   "outputs": [
    {
     "name": "stdout",
     "output_type": "stream",
     "text": [
      "1\n",
      "yes\n",
      "yes\n",
      "yes\n",
      "2\n",
      "yes\n",
      "yes\n",
      "yes\n",
      "3\n",
      "yes\n",
      "yes\n",
      "yes\n",
      "4\n",
      "yes\n",
      "yes\n",
      "yes\n",
      "5\n",
      "yes\n",
      "yes\n",
      "yes\n",
      "6\n",
      "yes\n",
      "yes\n",
      "yes\n",
      "7\n",
      "yes\n",
      "yes\n",
      "yes\n",
      "8\n",
      "yes\n",
      "yes\n",
      "yes\n"
     ]
    }
   ],
   "source": [
    "for i in range(1,9):\n",
    "    print(i)\n",
    "    for m in range(1,4):\n",
    "        print('yes')"
   ]
  },
  {
   "cell_type": "code",
   "execution_count": null,
   "metadata": {},
   "outputs": [],
   "source": []
  }
 ],
 "metadata": {
  "kernelspec": {
   "display_name": "Python 3",
   "language": "python",
   "name": "python3"
  },
  "language_info": {
   "codemirror_mode": {
    "name": "ipython",
    "version": 3
   },
   "file_extension": ".py",
   "mimetype": "text/x-python",
   "name": "python",
   "nbconvert_exporter": "python",
   "pygments_lexer": "ipython3",
   "version": "3.8.5"
  }
 },
 "nbformat": 4,
 "nbformat_minor": 4
}
